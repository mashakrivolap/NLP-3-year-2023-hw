{
 "cells": [
  {
   "cell_type": "markdown",
   "metadata": {
    "id": "u7yu1LCNsuaX"
   },
   "source": [
    "Импортируем и декларируем всякие нужные штуки"
   ]
  },
  {
   "cell_type": "code",
   "execution_count": 80,
   "metadata": {
    "id": "5jlTbiDz4ds_"
   },
   "outputs": [],
   "source": [
    "from bs4 import BeautifulSoup\n",
    "from fake_useragent import UserAgent\n",
    "import requests\n",
    "import nltk\n",
    "from nltk.corpus import stopwords\n",
    "from nltk.tokenize import word_tokenize\n",
    "import spacy\n",
    "nlp = spacy.load(\"en_core_web_sm\")\n",
    "sw = stopwords.words(\"english\")\n",
    "session = requests.session()\n",
    "ua = UserAgent()\n",
    "headers = {\"User-Agent\": ua.random}"
   ]
  },
  {
   "cell_type": "markdown",
   "metadata": {
    "id": "aDJ34S5zszbB"
   },
   "source": [
    "Пишем функцию получения отзывов. Я выбрала для краулинга сайт Tripadvisor и отзывы на некоторые кафешки в Нью-Йорке (попутешествуем хотя бы так...)"
   ]
  },
  {
   "cell_type": "code",
   "execution_count": 4,
   "metadata": {
    "id": "ib2KydFCAKuO"
   },
   "outputs": [],
   "source": [
    "def get_reviews(url):\n",
    "    response = requests.get(url, headers = headers)\n",
    "    soup = BeautifulSoup(response.text, \"html.parser\")\n",
    "    reviews = []\n",
    "    review_elements = soup.find_all(\"div\", class_= \"review-container\")\n",
    "    for review in review_elements:\n",
    "        rating = review.find(\"span\", class_= \"ui_bubble_rating\")[\"class\"][1].split(\"_\")[-1]\n",
    "        content = review.find(\"p\", class_= \"partial_entry\").text\n",
    "        reviews.append({\"rating\": rating, \"content\": content})\n",
    "    return reviews"
   ]
  },
  {
   "cell_type": "markdown",
   "metadata": {
    "id": "TRB1ectetCa5"
   },
   "source": [
    "Получаем сначала отзывы на одно популярное и любимое людьми место, откуда скорее всего легко будет повытаскивать положительные отзывы\n",
    "\n"
   ]
  },
  {
   "cell_type": "code",
   "execution_count": 7,
   "metadata": {
    "id": "4lNZCQgC5A57"
   },
   "outputs": [],
   "source": [
    "url = \"https://www.tripadvisor.com/Restaurant_Review-g60763-d11916965-Reviews-Non_Solo_Piada-New_York_City_New_York.html\"\n",
    "good_reviews = []\n",
    "\n",
    "for page in range(10):\n",
    "    page_url = f'{url.split(\"-Reviews-\")[0]}-or{page*10}-{url.split(\"-Reviews-\")[1]}'\n",
    "    page_reviews = get_reviews(page_url)\n",
    "    good_reviews.extend(page_reviews)\n",
    "    if len(good_reviews) >= 100:\n",
    "        break"
   ]
  },
  {
   "cell_type": "markdown",
   "metadata": {
    "id": "9paP8qKNtUI3"
   },
   "source": [
    "Делаем список собственно самих положительных отзывов (только с оценкой 5/5)."
   ]
  },
  {
   "cell_type": "code",
   "execution_count": null,
   "metadata": {
    "id": "mEGYmotS72rS"
   },
   "outputs": [],
   "source": [
    "pos = []\n",
    "for review in good_reviews:\n",
    "    if review[\"rating\"] == \"50\" and review[\"content\"] not in pos:\n",
    "        pos.append(review[\"content\"])\n",
    "pos = pos[:50]\n",
    "#for review in pos:\n",
    "    #print(review)\n",
    "   #print(\"\\n\")"
   ]
  },
  {
   "cell_type": "markdown",
   "metadata": {
    "id": "M4mZWj4ZwZnB"
   },
   "source": [
    "То же самое для отрицательных:"
   ]
  },
  {
   "cell_type": "code",
   "execution_count": 18,
   "metadata": {
    "id": "9AXN21Jo5j0D"
   },
   "outputs": [],
   "source": [
    "url = \"https://www.tripadvisor.com/Restaurant_Review-g60763-d424088-Reviews-Nello-New_York_City_New_York.html\"\n",
    "bad_reviews = []\n",
    "for page in range(25):\n",
    "    page_url = f'{url.split(\"-Reviews-\")[0]}-or{page*10}-{url.split(\"-Reviews-\")[1]}'\n",
    "    page_reviews = get_reviews(page_url)\n",
    "    bad_reviews.extend(page_reviews)\n"
   ]
  },
  {
   "cell_type": "code",
   "execution_count": null,
   "metadata": {
    "id": "PJ-CSPCmA59_"
   },
   "outputs": [],
   "source": [
    "neg = []\n",
    "for review in bad_reviews:\n",
    "    if review[\"rating\"] == \"10\" and review[\"content\"] not in neg:\n",
    "        neg.append(review[\"content\"])\n",
    "neg = neg[:50]\n",
    "#for review in neg:\n",
    "    #print(review)\n",
    "    #print(\"\\n\")"
   ]
  },
  {
   "cell_type": "markdown",
   "metadata": {
    "id": "wuOrquQIwjVs"
   },
   "source": [
    "Функция для приведения к начальной форме, нижнему регистру и фильтра стоп-слов"
   ]
  },
  {
   "cell_type": "code",
   "execution_count": 22,
   "metadata": {
    "id": "O3FGZ0IjCD2s"
   },
   "outputs": [],
   "source": [
    "def lemmetize(words):\n",
    "    lemmed_words = []\n",
    "    words = [w.lower() for w in word_tokenize(words) if w.isalpha()]\n",
    "    tokens = \" \".join([w for w in words if w not in sw])\n",
    "    doc = nlp(tokens)\n",
    "    for token in doc:\n",
    "        lemmed_words.append(token.lemma_)\n",
    "    lemmed_text = \" \".join(lemmed_words)\n",
    "    return(lemmed_text)"
   ]
  },
  {
   "cell_type": "markdown",
   "metadata": {
    "id": "pxXgAjlJwsPN"
   },
   "source": [
    "Проделываем это всё с обоими наборами отзывов"
   ]
  },
  {
   "cell_type": "code",
   "execution_count": 25,
   "metadata": {
    "id": "yCYT2xhFDHS1"
   },
   "outputs": [],
   "source": [
    "lemma_pos = []\n",
    "lemma_neg = []\n",
    "for p in pos:\n",
    "    lemma_pos.append(lemmetize(p))\n",
    "for n in neg:\n",
    "    lemma_neg.append(lemmetize(n))"
   ]
  },
  {
   "cell_type": "code",
   "execution_count": 26,
   "metadata": {
    "id": "9-Guv38gDhg_"
   },
   "outputs": [],
   "source": [
    "negj = \" \".join(lemma_neg).split()\n",
    "posj = \" \".join(lemma_pos).split()"
   ]
  },
  {
   "cell_type": "markdown",
   "metadata": {
    "id": "nx-FK9Vxw4K3"
   },
   "source": [
    "Подсчитываем слова в отзывах"
   ]
  },
  {
   "cell_type": "code",
   "execution_count": 27,
   "metadata": {
    "id": "29NExqBzD9b-"
   },
   "outputs": [],
   "source": [
    "posdict = {}\n",
    "negdict = {}\n",
    "for w in posj:\n",
    "    if w not in posdict:\n",
    "        posdict[w] = 1\n",
    "    else:\n",
    "        posdict[w] += 1\n",
    "for w in negj:\n",
    "    if w not in negdict:\n",
    "        negdict[w] = 1\n",
    "    else:\n",
    "        negdict[w] += 1"
   ]
  },
  {
   "cell_type": "markdown",
   "metadata": {
    "id": "_l5XxMYLw7eU"
   },
   "source": [
    "Выделяем ключевые слова, которые либо встречались только в отзывах одной тональности, либо встречались в отзывах одной тональности чаще, чем в отзывах другой тональности (это мой способ решения проблемы пустых множеств), и присваиваем им \"вес\" разницу квхождений в оложительные и в отрицательные отзывы (в зависимости от того, чего больше)."
   ]
  },
  {
   "cell_type": "code",
   "execution_count": 87,
   "metadata": {
    "id": "d8-i-oAPEC8w"
   },
   "outputs": [],
   "source": [
    "keyneg = {}\n",
    "keypos = {}\n",
    "for p in posdict:\n",
    "    if p in negdict:\n",
    "        if posdict[p] > negdict[p]:\n",
    "            score = posdict[p] - negdict[p]\n",
    "    else:\n",
    "        score = posdict[p]\n",
    "    keypos[p] = score\n",
    "for n in negdict:\n",
    "    if n in posdict:\n",
    "        if negdict[n] > posdict[n]:\n",
    "            score = negdict[n] - posdict[n]\n",
    "    else:\n",
    "        score = negdict[n]\n",
    "    keyneg[n] = score"
   ]
  },
  {
   "cell_type": "markdown",
   "metadata": {
    "id": "v-LGrnsRxLAm"
   },
   "source": [
    "Набираем отзывы для проверки"
   ]
  },
  {
   "cell_type": "code",
   "execution_count": 29,
   "metadata": {
    "id": "2ZWsrz_GYS_l"
   },
   "outputs": [],
   "source": [
    "url = \"https://www.tripadvisor.com/Restaurant_Review-g60763-d3491934-Reviews-The_Halal_Guys-New_York_City_New_York.html\"\n",
    "test = []\n",
    "for page in range(90):\n",
    "    page_url = f'{url.split(\"-Reviews-\")[0]}-or{page*10}-{url.split(\"-Reviews-\")[1]}'\n",
    "    page_reviews = get_reviews(page_url)\n",
    "    test.extend(page_reviews)"
   ]
  },
  {
   "cell_type": "code",
   "execution_count": 30,
   "metadata": {
    "colab": {
     "base_uri": "https://localhost:8080/"
    },
    "id": "4HeZXw7Raas-",
    "outputId": "cd876f23-c696-4115-bc17-6f9b6e156294"
   },
   "outputs": [
    {
     "data": {
      "text/plain": [
       "30"
      ]
     },
     "execution_count": 30,
     "metadata": {},
     "output_type": "execute_result"
    }
   ],
   "source": [
    "testneg = []\n",
    "for review in test:\n",
    "    if review[\"rating\"] == \"10\" and review[\"content\"] not in testneg:\n",
    "        testneg.append(review[\"content\"])\n",
    "len(testneg)"
   ]
  },
  {
   "cell_type": "code",
   "execution_count": 31,
   "metadata": {
    "id": "BsYX-splahm0"
   },
   "outputs": [],
   "source": [
    "testpos = []\n",
    "for review in test:\n",
    "    if review[\"rating\"] == \"50\" and review[\"content\"] not in testpos:\n",
    "        testpos.append(review[\"content\"])\n",
    "    if len(testpos) == 30:\n",
    "        break"
   ]
  },
  {
   "cell_type": "code",
   "execution_count": 32,
   "metadata": {
    "id": "4W52hnVMh5-c"
   },
   "outputs": [],
   "source": [
    "ans = {}\n",
    "for i in testneg:\n",
    "    ans[i] = 0\n",
    "for i in testpos:\n",
    "    ans[i] = 1"
   ]
  },
  {
   "cell_type": "markdown",
   "metadata": {
    "id": "3cqHsnVAxN7h"
   },
   "source": [
    "Функция для определения тональности: каждое слово в отзыве приводим к нормальному виду, далее смотрим, является ли оно ключевым для положительной и отрицательной тональности. Прибавляем к его \"счету\" то число, которое соответствует ключевому слову."
   ]
  },
  {
   "cell_type": "code",
   "execution_count": 105,
   "metadata": {
    "id": "Ula_BPOcWxAV"
   },
   "outputs": [],
   "source": [
    "def sentiment(keypos, keyneg, review):\n",
    "    pos_score = 0\n",
    "    neg_score = 0\n",
    "    lem_review = lemmetize(review)\n",
    "    for word in lem_review:\n",
    "        if word in keypos:\n",
    "            pos_score += keypos[word]\n",
    "        if word in keyneg:\n",
    "            neg_score += keyneg[word]\n",
    "    if pos_score > neg_score:\n",
    "        return 1\n",
    "    else:\n",
    "        return 0"
   ]
  },
  {
   "cell_type": "markdown",
   "metadata": {
    "id": "0JRLxRyIxpuK"
   },
   "source": [
    "Проверяем аккураси: если правильно определена тональность, добавляем балл. Потом делим сумму баллов на длину тестовой выборки"
   ]
  },
  {
   "cell_type": "code",
   "execution_count": 42,
   "metadata": {
    "id": "hEY8FMdJgf1K"
   },
   "outputs": [],
   "source": [
    "def accuracy(ans, pred):\n",
    "    sum = 0\n",
    "    for i in pred:\n",
    "        if pred[i] == ans[i]:\n",
    "            sum += 1\n",
    "    return sum/len(ans)"
   ]
  },
  {
   "cell_type": "code",
   "execution_count": 109,
   "metadata": {
    "id": "oIy0GtteiahO"
   },
   "outputs": [],
   "source": [
    "pred = {}\n",
    "for i in ans:\n",
    "    pred[i] = sentiment(keypos, keyneg, i)"
   ]
  },
  {
   "cell_type": "code",
   "execution_count": 112,
   "metadata": {
    "colab": {
     "base_uri": "https://localhost:8080/"
    },
    "id": "8D2YQAUcnmbB",
    "outputId": "326efc07-491c-4bae-da84-8c9c75039d48"
   },
   "outputs": [
    {
     "data": {
      "text/plain": [
       "0.4666666666666667"
      ]
     },
     "execution_count": 112,
     "metadata": {},
     "output_type": "execute_result"
    }
   ],
   "source": [
    "accuracy(ans, pred)"
   ]
  },
  {
   "cell_type": "markdown",
   "metadata": {
    "id": "ovB2lrG8r3eS"
   },
   "source": [
    "Получилось, конечно, так себе. Отсюда переходим к возможным улучшениям этой убогой штуки:\n",
    "\n",
    "1. создать и применить топико-специфичный список стоп-слов. Для отзывов на рестораны, например, там будут слова типа \"кафе, еда, персонал\" и т.д. Создать такой список можно на основе большой выборки отзывов, выделив те слова, которые встречаются в большинстве из них. Однозначно тогда будет меньше негативных и позитивных маркеров, не имеющих в своей сути ничего негативного или позитивного\n",
    "\n",
    "2. отзывы бывают длинные и короткие. Можно попробовать давать больший вес словам в маленьких отзывах и меньший в больших. Логика за этим такая: в маленьком отзыве скорее всё лаконичнее и слова напрямую описывают эмоциональную реакцию рецензента, в большом же может быть много воды и каких-то витиеватых, детальных сравнений/описаний/рассуждений (а соответственно и лишних слов, которые автор написал просто от балды). это не точно, но можно попробовать\n",
    "\n",
    "3. можно попробовать учитывать отрицания перед словами и при наличии такового трактовать слово противоположно либо рассматривать его с отрицанием как одно целое, например, если встретили not good в отрицательном отзыве, то не бежим записывать good в отрицательный список, а либо наоборот тащим его в отрицательный (not меняет значение на противоположное => слово на самом деле имеет положительную коннотацию), либо тащим в отрицательный список словосочетание not good\n",
    "\n",
    "надеюсь, что-то из этого засчитается, как улучшение.... thanks for coming to my ted talk"
   ]
  },
  {
   "cell_type": "markdown",
   "metadata": {
    "id": "q0xc7sZEEMtx"
   },
   "source": [
    "<img src=\"https://i.pinimg.com/originals/1c/b6/04/1cb604515b145c012a82f7ce6ed75e0f.jpg\">\n"
   ]
  }
 ],
 "metadata": {
  "colab": {
   "provenance": [],
   "toc_visible": true
  },
  "kernelspec": {
   "display_name": "Python 3 (ipykernel)",
   "language": "python",
   "name": "python3"
  },
  "language_info": {
   "codemirror_mode": {
    "name": "ipython",
    "version": 3
   },
   "file_extension": ".py",
   "mimetype": "text/x-python",
   "name": "python",
   "nbconvert_exporter": "python",
   "pygments_lexer": "ipython3",
   "version": "3.9.12"
  }
 },
 "nbformat": 4,
 "nbformat_minor": 1
}
