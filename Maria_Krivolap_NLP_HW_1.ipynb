{
 "cells": [
  {
   "cell_type": "markdown",
   "metadata": {
    "id": "u7yu1LCNsuaX"
   },
   "source": [
    "Импортируем и декларируем всякие нужные штуки"
   ]
  },
  {
   "cell_type": "code",
   "execution_count": 80,
   "metadata": {
    "id": "5jlTbiDz4ds_"
   },
   "outputs": [],
   "source": [
    "from bs4 import BeautifulSoup\n",
    "from fake_useragent import UserAgent\n",
    "import requests\n",
    "import nltk\n",
    "from nltk.corpus import stopwords\n",
    "from nltk.tokenize import word_tokenize\n",
    "import spacy\n",
    "nlp = spacy.load(\"en_core_web_sm\")\n",
    "sw = stopwords.words(\"english\")\n",
    "session = requests.session()\n",
    "ua = UserAgent()\n",
    "headers = {\"User-Agent\": ua.random}"
   ]
  },
  {
   "cell_type": "markdown",
   "metadata": {
    "id": "aDJ34S5zszbB"
   },
   "source": [
    "Пишем функцию получения отзывов. Я выбрала для краулинга сайт Tripadvisor и отзывы на некоторые кафешки в Нью-Йорке (попутешествуем хотя бы так...)"
   ]
  },
  {
   "cell_type": "code",
   "execution_count": 4,
   "metadata": {
    "id": "ib2KydFCAKuO"
   },
   "outputs": [],
   "source": [
    "def get_reviews(url):\n",
    "    response = requests.get(url, headers = headers)\n",
    "    soup = BeautifulSoup(response.text, \"html.parser\")\n",
    "    reviews = []\n",
    "    review_elements = soup.find_all(\"div\", class_= \"review-container\")\n",
    "    for review in review_elements:\n",
    "        rating = review.find(\"span\", class_= \"ui_bubble_rating\")[\"class\"][1].split(\"_\")[-1]\n",
    "        content = review.find(\"p\", class_= \"partial_entry\").text\n",
    "        reviews.append({\"rating\": rating, \"content\": content})\n",
    "    return reviews"
   ]
  },
  {
   "cell_type": "markdown",
   "metadata": {
    "id": "TRB1ectetCa5"
   },
   "source": [
    "Получаем сначала отзывы на одно популярное и любимое людьми место, откуда скорее всего легко будет повытаскивать положительные отзывы\n",
    "\n"
   ]
  },
  {
   "cell_type": "code",
   "execution_count": 7,
   "metadata": {
    "id": "4lNZCQgC5A57"
   },
   "outputs": [],
   "source": [
    "url = \"https://www.tripadvisor.com/Restaurant_Review-g60763-d11916965-Reviews-Non_Solo_Piada-New_York_City_New_York.html\"\n",
    "good_reviews = []\n",
    "\n",
    "for page in range(10):\n",
    "    page_url = f'{url.split(\"-Reviews-\")[0]}-or{page*10}-{url.split(\"-Reviews-\")[1]}'\n",
    "    page_reviews = get_reviews(page_url)\n",
    "    good_reviews.extend(page_reviews)\n",
    "    if len(good_reviews) >= 100:\n",
    "        break"
   ]
  },
  {
   "cell_type": "markdown",
   "metadata": {
    "id": "9paP8qKNtUI3"
   },
   "source": [
    "Делаем список собственно самих положительных отзывов (только с оценкой 5/5).\n",
    "*тут дальше можно развернуть отзывы, но я, прочитав соответствующую просьбу в домашке, их скрылв. надеюсь, что они правда скрылисьЮ а если вдруг все-таки нет, то простите!*"
   ]
  },
  {
   "cell_type": "code",
   "execution_count": 13,
   "metadata": {
    "colab": {
     "base_uri": "https://localhost:8080/"
    },
    "collapsed": true,
    "id": "mEGYmotS72rS",
    "outputId": "2ff816cb-f75e-4e3c-9348-e0deffd15a19"
   },
   "outputs": [
    {
     "name": "stdout",
     "output_type": "stream",
     "text": [
      "A very good surprise. It was a long time ago we eat a pizza like that, so delicious. It s little place with table outside and close to the big place.\n",
      "\n",
      "\n",
      "Very friendly! Outdoor dining makes it unique. Service was very quick and food was absolutely delicious! Truly authentic Italian.\n",
      "\n",
      "\n",
      "This was classic Italian Street food and it was a spectacular place to eat lunch. The service was quick and great! Food was 10/10!! Go here if you want a quick, delicious lunch!\n",
      "\n",
      "\n",
      "Literally a hole in the wall shop serving terrific Italian street foods and Italian coffees.  Try the piadene, a folded up, flakey, buttery flat bread  stuffed with delicious ingredients - including breakfast options.  Also saw frittatas and pastas on the menu.  There's no inside seating...to speak of, but they have an enclosed, heated shelter off the sidewalk with tables that was sweet.   Will definitely return!!More\n",
      "\n",
      "\n",
      "Excellent food. Not expensive at all. Great service. The dish size was huge for only 10$\n",
      "Highly recommended place for breakfast!!\n",
      "\n",
      "\n",
      "I needed a bite to take back to my hotel room and couldn’t decide-the owner was on hand to talk me into something delicious and was so charming. Prepared right before me, the food was hot and cheesy and perfect!!\n",
      "\n",
      "\n",
      "We had breakfast their our first morning in town, it was so very good and everyone that worked there were so sweet.  A must try!!\n",
      "\n",
      "\n",
      "Wonderful service!  Amazing food!  Busy but quick!\n",
      "Will be our go to place this trip!  Nutella pastry was divine!  The number 21 was the best thing I have ever eaten!  Wish I would have taken more pics.  All you would see are empty plates right...now🤣More\n",
      "\n",
      "\n",
      "This is the real italian piadina . Fanstastic the Romagnola with real italian stracchino , prosciutto and Arugula. My wife got the pizza made with the same dough as the piadina and it was an amazing surprise how good it was.\n",
      "\n",
      "\n",
      "Italian breakfast was excellent.  We had the romana omelet and croissant with sweet Italian sausage.   Even tho we were there early they had the most fabulous cannolis made fresh that morning.  I’d eat here every morning if I could.\n",
      "\n",
      "\n",
      "We needed a quick place for lunch on our way to Penn Station. We ordered a couple Italian sandwiches (I can’t remember what they were called). They have outdoor seating which was very convenient and the staff was friendly. Definitely recommend if you’re in the...area.More\n",
      "\n",
      "\n",
      "We were in town for 4 days and got coffee here every day.  The breakfast sandwichs are amazing and so were the pastries.  the sandwiches for lunch also were also great.  worth checking this place out\n",
      "\n",
      "\n",
      "We stopped by to have a quick lunch. Rimagnola piadine was amazing! High quality ingredients, lovely service and great location makes me come back over and over again.\n",
      "\n",
      "\n",
      "We have eaten here several times and have enjoyed all the different dishes we have tried.  This is a small take out service on W 37th near 8th Av and it offers some markedly different foods than most of the other dining establishments in New...York.  They live up to their focus on authentic Italian street food.  The operators were raised in Italy and appear to know whereof they speak.  All the servers are friendly and service is prompt.  Orders can be made online, over the phone or in person for delivery or pick up.  There is no place to sit inside this establishment so carry out is mandatory.  Prices are reasonable.  If you want something different for your next meal, then try out Non Solo Piada.  If this information is helpful please click the link below to let us know.More\n",
      "\n",
      "\n",
      "A must eat when in the City. Everything was amazing and the service as well. #13 was amazing, and get something with Nutella.\n",
      "\n",
      "\n",
      "My husband and I discovered this gem of a place when we stayed in a hotel across the street.  We loved our breakfast so much that when we subsequently stayed in another hotel several blocks away, we made sure to return for another perfect meal!...More\n",
      "\n",
      "\n",
      "Non Solo Piada (“Not Just Bread”) has it all: genuine great tasting Italian street food, fab cappuccino, and great atmosphere despite the small space.  The owner Sammy is from Emilia-Romagna where “Piada” is the local flatbread.  It was refreshing to hear music and conversation on...More\n",
      "\n",
      "\n",
      "Such friendly service and honestly delicious fresh baked (and warm served) Italian pastries. \n",
      "And: order a coffee. It’s real coffee. \n",
      "They speak Italian too and are helpful when you have difficulties finding your way.\n",
      "\n",
      "\n",
      "Really good breakfast. Good coffe and croisants. Nice workers and clean kitchen. Effective serving and ok price.\n",
      "\n",
      "\n",
      "We were walking to Summer Fancy Food Show at Javits Centre from our hotel at Times Square looking for a quick bite for breakfast and noticed this neat, nice looking place from outside. Once we got in, we were charmed with its menu, the warm...More\n",
      "\n",
      "\n",
      "We exhibiting in Summer Fancy Food Show and staying at a nearby hotel, while looking for a place to have a quick breakfast on our way to Javit center, we have seen this little place. Food is excellent, clean, they are very friendly, there is...More\n",
      "\n",
      "\n",
      "After days of trying to find good pizza in NYC and being disappointed, I had given up on finding anything decent in this part of NYC that wasn't crazy expensive.  Somehow I found this place on Yelp and decided to give it a go as...More\n",
      "\n",
      "\n",
      "If you happen to find yourself around 8th and 37...don’t go anywhere else for your morning coffee and breakfast! I found this little gem on Google and I’m very pleased I did. The food is freshly cooked right in front of you with high quality...More\n",
      "\n",
      "\n",
      "We visited when we wanted to pick up some tasty food to eat as we wandered around. We decided upon this place after seeing the great reviews it had on TripAdvisor and we were not disappointed. The food we had was lovely. We all chose...More\n",
      "\n",
      "\n",
      "We met both the owners and they were genuinely passionate about their restaurant.  It was great to see.  \n",
      "\n",
      "They gave us some suggestions on what to order and we ordered a bunch to take to a show at the Javits Center.  It was a team...More\n",
      "\n",
      "\n",
      "Across from the courtyard hotel on 37th this little closet of a place literally has the best breakfast sandwiches I’ve ever had. Guys are friendly too and illy coffee to boot. Good stuff, stomach is growling just typing this review.\n",
      "\n",
      "\n",
      "Unbelievable frittata and cappuccino !!!  The staff was so nice. Small and welcoming place with the best food of the weekend.More\n",
      "\n",
      "\n",
      "I got the vegetable piata and is was hearty and filling.   Really flavorful and still really hot after walking the 4 blocks back to my hotel.  Will definitely be going back as I visit NYC a lot.  Really only good to get something to go,...More\n",
      "\n",
      "\n",
      "Very recommendable food joint. Quick serving, fairly cheap and really delicious. We went there for a late breakfast/early lunch and opted for the cassoni (closed Italian bread with cheese etc.). Price was $7-9 and the serving big enough to get us going for the day....More\n",
      "\n",
      "\n",
      "Surprising to find this tiny, hole in the wall shop, with fabulous pastry. Just a few doors down from several new Manhattan hotels. Staff was friendly and talkative. They describe the cuisine as Italian street food for busy New Yorkers on the go. The wife...More\n",
      "\n",
      "\n",
      "I saw this restaurant on 'DiningonaShoeStringinNYC' and it had been highly recommended and the review on TripAdvisor and I have eaten here on recommendations and the food is really wonderful.\n",
      "\n",
      "It is this little hole in the wall take out place with a few seats...More\n",
      "\n",
      "\n",
      "Visited based on the reviews and so glad I did! Food was delicious and I wished I could try more because it was hard choosing what to order. If we weren’t trying to explore restaurants while in town I would go back for dinner. Don’t...More\n",
      "\n",
      "\n",
      "I just came across this restaurant when I was walking by one afternoon and it is a little gem in the neighborhood that has become my new place for snacks. They have the most wonderful creative menu and their prices are very fair and reasonable....More\n",
      "\n",
      "\n",
      "Very authentic Italian street food. It’s the exact same food you would get when walking around the streets of Italy.  Bombolone Nutella was fresh and Cassoni was perfect. Reasonable Prices.\n",
      "\n",
      "\n",
      "Delicious!  The bread is wonderful!  Try the Nutella donut sandwich as well!  This was just a few doors down from our hotel.  Wonderful service and delicious treats!More\n",
      "\n",
      "\n",
      "This was right across from our hotel and we thought we would try it for lunch. It is tiny, just about room for 4 people to wait for their food but definitely worth it. We shared a newyorkese with chicken and LOTS of caramelized onions....More\n",
      "\n",
      "\n",
      "We were staying right next door at the Homewood Suites, busily passing it in between my daughter's college auditions. We finally decided to stop in when looking for a quick bite. WOW! The food is so fresh and tenderly cooked right in front of you....More\n",
      "\n",
      "\n",
      "Sometimes vacation means being lazy and getting breakfast in bed delivered. I’ll be dreaming about their croissants and bombalones for a long time to come! \n",
      "\n",
      "Tip: if you call the delivery in instead of doing it online you don’t get charged the delivery fee. Ours...More\n",
      "\n",
      "\n",
      "Genuine Italian food! They are kind and lovely also for get some information\n",
      "\n",
      "Please stop there and have a break\n",
      "\n",
      "\n",
      "This place is small so you could miss it.  Real Italian!  Great friendly service.  Excellent flatbread!\n",
      "\n",
      "\n",
      "A small piece of Romagna in New York. An  Italian “fast food”recently opened, which made the piadina a typical Romagnolo product.\n",
      "The piadina is made of a leaf of wheat flour, lard or olive oil, bicarbonate or yeast, salt and water. It is stuffed with...More\n",
      "\n",
      "\n",
      "Always a pleasure eating at Non Solo. The food is very tasty and affordable. Also the service is wonderful. Sanna & Ariana rock!\n",
      "\n",
      "\n",
      "Vaca in NYC...walking around with wife and daughter looking for a little breakfast place.  My wife noticed a sign out front and it smelled good so we said why not.   Tiny little place, we had some breakfast sandwiches and they were excellent.   If we were...More\n",
      "\n",
      "\n",
      "Non Solo Piada provides a unique pizzeria experiance: this tiny restaurant sandwiched between buildings on NYC's Midtown serves quickly made, modestly priced, and absolutely delicious creations.\n",
      "\n",
      "The eatery may be easy to miss walking by, but should not be underestimated due to its stature. Non...More\n",
      "\n",
      "\n",
      "This opened around the corner from my office! It's a tiny place, but hard to miss with the orange stripes. The staff there are extremely friendly and attentive. It's a new concept so the front lady took the time to explain to me how their...More\n",
      "\n",
      "\n",
      "My wife and I happened upon this place while looking for breakfast. The proprietor warmly invited us in and helped me figure out what to order. It was amazing food, quick and friendly. Highly recommended for breakfast, lunch or a quick snack.\n",
      "\n",
      "\n",
      "Neighborhood small Italian place in midtown serving Northern Italian street food. Everything is made fresh as you order. They specialize in piadina, Italian flat bread they serve it 3 ways pizza style, calzone style or classic. Very simple yet very tasty and delicious. Prices are...More\n",
      "\n",
      "\n",
      "The best of entire East Cost! Authentic Riminese Piada, Cassoni and Piadizza. Great taste and service. Thank you for everything guys!\n",
      "\n",
      "\n",
      "I was with some friends in New York city for a trip when we casually discover this place. The food was really tasty and the staff super friendly. It was like a quick jump back to Italy.\n",
      "\n",
      "\n",
      "I stopped by this little Italian street food concept restaurant that I found online because I love the piadina (a typical flat bread sandwich with origin from Emilia Romagna) and wanted to give it a try. The result was excellent, the quality is really high...More\n",
      "\n",
      "\n"
     ]
    }
   ],
   "source": [
    "pos = []\n",
    "for review in good_reviews:\n",
    "    if review[\"rating\"] == \"50\" and review[\"content\"] not in pos:\n",
    "        pos.append(review[\"content\"])\n",
    "pos = pos[:50]\n",
    "#for review in pos:\n",
    "    #print(review)\n",
    "    #print(\"\\n\")"
   ]
  },
  {
   "cell_type": "markdown",
   "metadata": {
    "id": "M4mZWj4ZwZnB"
   },
   "source": [
    "То же самое для отрицательных:"
   ]
  },
  {
   "cell_type": "code",
   "execution_count": 18,
   "metadata": {
    "id": "9AXN21Jo5j0D"
   },
   "outputs": [],
   "source": [
    "url = \"https://www.tripadvisor.com/Restaurant_Review-g60763-d424088-Reviews-Nello-New_York_City_New_York.html\"\n",
    "bad_reviews = []\n",
    "for page in range(25):\n",
    "    page_url = f'{url.split(\"-Reviews-\")[0]}-or{page*10}-{url.split(\"-Reviews-\")[1]}'\n",
    "    page_reviews = get_reviews(page_url)\n",
    "    bad_reviews.extend(page_reviews)\n"
   ]
  },
  {
   "cell_type": "code",
   "execution_count": 20,
   "metadata": {
    "colab": {
     "base_uri": "https://localhost:8080/"
    },
    "collapsed": true,
    "id": "PJ-CSPCmA59_",
    "outputId": "a0af09d6-433c-4838-8415-c37de4c0ec5c"
   },
   "outputs": [
    {
     "name": "stdout",
     "output_type": "stream",
     "text": [
      "Worst restaurant ever!!! We ordered the specials and weren’t told the price. We ordered a plate of spaghetti with melted cheese and a few truffles (the special for the night) and were being charged $200 per plate at the end of the evening! When they...tried to adjust the price we were literally negotiating with the servers and the manager never showed up. Overall it was the most unpleasant experience!More\n",
      "\n",
      "\n",
      "HORRIBLE! Taste worse than a school lunch! I liken it to bad airplane food and you pay about the same as a round trip airline ticket to boot! My husband and I had 2 plates of pasta, 1 salad, 1 desert, 1 water and 1...coffee for a total of $327! Please go anywhere else for pasta and save the money!More\n",
      "\n",
      "\n",
      "This restaurant is horribly overrated and overpriced. Not only they didn’t mention that the “special menu”which pasta with truffles  would be almost 200usd. They even charged us 28% for the tip. Our Valentines lunch costs 750usd for 3 people! That’s  me, my husband and 5yrs...old daughter. Ridiculous!!!! \n",
      "\n",
      "Never ever come to this restaurant unless you want to burn your money. Not even a penny worth for this.More\n",
      "\n",
      "\n",
      "AVOID AVOID AVOID\n",
      "These people are thieves!!!!!!!!!\n",
      "\n",
      "We were  for a lunch  there. \n",
      "Ordered 2 dishes of ravioli  , mozzarella salad and 2 glasses California white wine. They charged us. 298$ !!!!!!! \n",
      "\n",
      "Service was bad! They try to sell you champagne, cocktails and truffle  dishes...and they insist all the time!” Over and over!!!!\n",
      "\n",
      "My husband wanted to pay with credit card but the tip was cash….. the waiter did not allowe us to do that !!!! He took the mashing away and told us that the tip must be at least 60$ -90 $\n",
      "It was such an awkward situation!!!!!!\n",
      "\n",
      "I repeat:\n",
      "We paid 360$ in total for  2 ravioli , 1 mozzarella and 2 glasses white wine!!!!!!!!\n",
      "\n",
      "Food was averageMore\n",
      "\n",
      "\n",
      "Fried calamari disgusted! Really.\n",
      "Caesar Salad NO Caesar dressing!\n",
      "Mapping the floor while we and others are eating? Do you really like to smell the chemicals? \n",
      "Apparently the owner’s don’t care and it’s obvious from the tables & stained chairs. \n",
      "Well, we would have had...better food on a street cart that this dumb. \n",
      "First & Last time & I’m doing a favor!!!More\n",
      "\n",
      "\n",
      "After decades of good experiences at Nello under Mr. Balan's prior ownership, Nello's should be renamed \"Hell No\". Party of 3 well dressed women: the wait captain seemed annoyed we wanted to linger over cocktails before ordering, was miffed we weren't interested in the pricey...truffle options, and argued with the table's host about the calamari dish that she ordered which seemed to arrive incorrect according to the customer. Wait captain aggressively propped an open menu in front of her and in a loud voice berated the customer about what she had ordered suggesting she didn't know what she was talking about. Host, in turn, dubbed wait captain \"Rude\" and \"Abrupt\" in a voice loud enough he got the message.  Said Captain stalked off and disappeared until he presented the billing machine tableside to the host and then stood there glaring not letting go of the machine. The meal and experience were ruined by his poor demeanor. Note to staff: Customers are the reason a restaurant exists!  Entire horrible experience squarely the fault of Nello personnel who are seemingly bent on upselling, rushing the diners, and steering menu choices for $$$. Food was, in a word, \"Gross\".  Wine prices are revoltingly high. Ordinary Sta. Margherita Pinot Grigio is $130 per bottle and $29 per glass, which represents roughly a nine fold mark-up. Nello's has sunk to its lowest--a truly terrible experience you cannot afford to endure, in more ways than just the beating your wallet will take - undeservedly. However, if you like to sit down for a high priced, rushed dinner and be abused by surly, cocky waitstaff, Nello's is for you.  For us it will be \"Hell No\" Nello.More\n",
      "\n",
      "\n",
      "Overpriced. You must go to another restaurant nearby paying 50% less. You just pay for the place, the pasta is “OK” but not the best in town. Don’t waist your time and money.\n",
      "\n",
      "\n",
      "We order pasta with Truffle and they didn’t starved the Truffle  in the table and it was totally not fresh, we also ask for  seabas and it was very greasy. \n",
      "The price outstanding , I thefinilly won’t be going back.\n",
      "\n",
      "\n",
      "The best way to describe the vibe eating here was like being at an used car dealership. The $59 octopus salad was delicious\n",
      "\n",
      "\n",
      "I have been going to Nello for 10+ years. The food and scene used to be top notch. \n",
      "\n",
      "The fact you can now get a last minute reservation via Opentable on a friday night says everything. \n",
      "\n",
      "Now it is just a very very average and...More\n",
      "\n",
      "\n",
      "This place is a terrible restaurant, with mediocre food and expensive. Do not recommend. Be careful when ordering drinks off charts\n",
      "\n",
      "\n",
      "Overpriced, snooty maitre d’, small portions, slightly above average Italian food.\n",
      "Be careful when paying by credit card. They expect at least a 20% tip on the total. The swipe machine shows the total only, not the subtotal. So customer is tipping on the tax...More\n",
      "\n",
      "\n",
      "Rude, cocky and Un inviting. Food not worth the cold, waiting and anguish experienced. Do not recommend.\n",
      "\n",
      "\n",
      "You may experience discrimination. I witnessed it. It was pathetic. People sue for such a treatment and win. I will never return. The food was ok. NYC has a lot of excellent restaurants with great service and amazing food. This is not one of them....More\n",
      "\n",
      "\n",
      "Terrible to say the least!!! Wine is incredible expensive. Service was terrible. Food just average. So overrated!!!!\n",
      "\n",
      "\n",
      "I'd give zero stars if I could. This was probably the most disappointing restaurant I've eaten at in NYC. The woman's bathroom had pee all over the seats that I had to wipe off to use. The sinks had water all over it. It wouldn't...More\n",
      "\n",
      "\n",
      "A small plate of pasta for 30-60 USD! Ok taste, but it was not very good. They served us 2 bottles of still Water, not asking if we would like tab Water. They charded us 30 dollars for the Water and added 50 dollars for...More\n",
      "\n",
      "\n",
      "I have been to many fine dining Italian in NYC and London and thought this place was good but way overpriced. We had 2 salads 2 meals 2 desserts and their cheapest wine and it was over $400. Veal Milanese was $80. As good as...More\n",
      "\n",
      "\n",
      "The food is average quality and way too expensive.  Staff is rude and their only objective is to sell more at ridiculously high prices.  The setting is very basic (nothing special) and a failed attempt to a family Italian restaurant.\n",
      "\n",
      "\n",
      "This place is so overpriced and snobby, couldn’t eat the pasta because it was so spicy and bad, it was freezing cold in the restaurant, not a nice experience 40 dollar for a starter mozzarella tomato.\n",
      "\n",
      "\n",
      "I've never been angry about a restaurant until this one!\n",
      "\n",
      "Here's our Valentine's Day dinner experience:\n",
      "\n",
      "1) We tried to call when we knew we'd be 15 minutes late as a courtesy: they'd taken the phone off the hook. 2) We had to wait 15...More\n",
      "\n",
      "\n",
      "I always leave 5 stars reviews where ever I have been. This because whenever I have complaints I prefer to share them in private, with the owner or the manager. I think it is pathetic that people use Tripadvisor to kill businesses. Up until today......More\n",
      "\n",
      "\n",
      "Went to nellos by mistake, had lunch and when the check arrived felt like i was being assumted.\n",
      "Honestly, stay away from there, gobto Daniels or any stared rated restaurant.\n",
      "\n",
      "\n",
      "Went shopping on Madison Avenue with my sister, had dumped about $1000 on dinner the night before so I’m not afraid to spend money, on a truly wonderful culinary experience. Own my own business, I do alright. Maybe it’s because I’m from the Midwest but..This...More\n",
      "\n",
      "\n",
      "I went to Nello for lunch after shopping on Madison. The menu and specials sounded delicious. I ordered a starter and specifically asked for it without raw onions. It was delivered with. Upon my complaint it was quickly replaced. But from then on the staff...More\n",
      "\n",
      "\n",
      "I once tried Nello back in 2014 for lunch with my daughter\n",
      "It was fun seeing all people coming and going out of Hermès boutique... didn’t really like our food\n",
      "When the bill came, we were shocked for the price as there was no return...More\n",
      "\n",
      "\n",
      "I read a NYT review that was so incredibly bad, I thought that I might try this place, also on recommendations from friends.  Two things: the NYT reviewer was too kind, and I have to get new friends.\n",
      "This place is a fraud...long wine list,...More\n",
      "\n",
      "\n",
      "Strengths, Good atmosphere, very busy, which is why we called in. Great for people watching.\n",
      "Weaknesses, Prices are outrageous for what you get. $40 for an average bowl of pasta.$15 for a bottle of still water, be careful of the desserts, the waiter will tell...More\n",
      "\n",
      "\n",
      "We ordered 3 main dishes, two were specials and one was a truffle pasta. The servings were very small and the pasta and other dishes very ordinary indeed. When the bill came it was $500 for the 3 of us and we only had 3...More\n",
      "\n",
      "\n",
      "I am Celiac.  I had a conversation with the server about the ingredients of their chicken soup.  He reassured me that noodles were not in it - they were cooked separately and added when wanted.  The soup was served and it was a little cloudy...More\n",
      "\n",
      "\n",
      "God knows why we ended up at Nello's. perhaps because of outside dining ? The prices are one of  the worst value for money in NYC. The place was empty (which should have been a warning) except for another table and the prices were so...More\n",
      "\n",
      "\n",
      "My wife and I recently went to Nello on a Sunday afternoon; few people dining but plenty of tuxedoed waiters;  the waiters spent almost all the time standing in a group at the bar talking in Italian.  Two specials were recommended - a grilled octopus...More\n",
      "\n",
      "\n",
      "I went in for a beer.  Two beers - $33.  Mediocre service.  They staff did enjoy jabbering with each other in Italian.\n",
      "\n",
      "\n",
      "Is a steal,, the most expensive and ridiculously restaurant in New York, they charge 200 dollars for a pasta 😱😱😱 please dont go there if you dont want to your waste your money, is the wost place in new you\n",
      "\n",
      "\n",
      "We visited Nello on a beautiful Saturday afternoon while shopping in NY City.  Please, if you value your palate and your wallet, avoid this place at all costs.  The chicken soup tasted like dishwater, and at $25 a bowl one would think it would at...More\n",
      "\n",
      "\n",
      "The food was average to mediocre but the prices are a total ripoff, a $45 for a lobster bisque and a $95 for a lobster pasta that the waiter recommended my son was a total scam. \n",
      "\n",
      "With so many options of Italian food in manhattan...More\n",
      "\n",
      "\n",
      "Stopped by for a coffee at 11am on a hot Sunday morning.\n",
      "\n",
      "The tables were nicely laid out except for the ones on the street.\n",
      "There is no sun protection and the sun was ferocious so we soon headed to the bar for our by...More\n",
      "\n",
      "\n",
      "It is very rare that I consider a good restaurant overpriced when I have an excellent meal, but Nello is the first one. We paid $1000 worth of average to mediocre pasta, we were 9 people including 4 children that ordered Alfredo spaghetti!\n",
      "My 13...More\n",
      "\n",
      "\n",
      "I have been to Nello's 5 years ago and it was an expensive but however nice Italian Restaurant. Now it is just an over priced place where food without a soul is served by waiters who are only passionate about selling. They tell you the...More\n",
      "\n",
      "\n",
      "We had a couple of daily specials and a bottle of decent wine. It all came up to 950 USD. What a rip-off. Waiters are trained to sell you their grandmother.\n",
      "\n",
      "When you expected the \"old\" Nello from around 5 years ago. Forget about it!...More\n",
      "\n",
      "\n",
      "Just outrageous. As a long time resident of Manhattan, I pride myself on avoiding places like this. Not sure what I did here but I had my fave ripped off at lunch today. Diner food at champagne prices indeed. $45 for a bowl of pasta...More\n",
      "\n",
      "\n",
      "Value of money 0$, too expensive, food was soooo normal, desert was good though & service was okay too.\n",
      "\n",
      "\n",
      "We've came across this place while waking on Madison. We usually check places and read reviews in advance but this time we didn't and it was our mistake. We were not super hungry, just wanted something light since we were planning on a fulfilling dinner....More\n",
      "\n",
      "\n",
      "My wife and I periodically splurge at this once-fine Italian restaurant. Had dinner .last time we were in NYC November 2016 - and ordered our two favorite dishes that we always do. The clam linguine that we shared as an appetizer was just terrible! Salty...More\n",
      "\n",
      "\n",
      "Walking on Madison we saw this lovely Italian restaurant, white table linens, the front was open as it was a beautiful day, we chose a table inside for lunch, due to traffic noise. The menu offered pastas priced around $40, and the server suggested a...More\n",
      "\n",
      "\n",
      "Snobby service, lovely table linens. Snobby service, had to be begged to be noticed. Snobby service, I'm seventy ( and still pretty awesome in most people's eyes, but, evidently, not in the eyes of a Madison Avenue waitstaff).  Snobby service, $36 for pasta Pomodoro, and...More\n",
      "\n",
      "\n",
      "Nello is the worst place to enjoy your meal with your friends. The staff are terrible and they all (including the arrogant manager) need to have intensive trainings in customer service.\n",
      "\n",
      "We stayed for 30 minutes only because we kept on asking for the menu,...More\n",
      "\n",
      "\n",
      "Absolute Chaos!!! If you want good Italian food go to Marea. Too expensive for the service they offer. Food if just average. Attitude of the servers and staff is terrible. It took forever to get our food. They didn't have half the wine that they...More\n",
      "\n",
      "\n",
      "If you want to hate Italian food for the rest of your life go to this restaurant. The maitre'd walked around like a bouncer. The bartender was talking to himself. The waiters treat you like idiots. The food should be served in hospitals. The prices...More\n",
      "\n",
      "\n",
      "We happened upon Nello today. I told the waiter I would have just a salad because I am allergic to cheese. He gave me a lovely speech about how it was the type of restaurant that would make me whatever I wanted, accommodating my allergies....More\n",
      "\n",
      "\n"
     ]
    }
   ],
   "source": [
    "neg = []\n",
    "for review in bad_reviews:\n",
    "    if review[\"rating\"] == \"10\" and review[\"content\"] not in neg:\n",
    "        neg.append(review[\"content\"])\n",
    "neg = neg[:50]\n",
    "#for review in neg:\n",
    "    #print(review)\n",
    "    #print(\"\\n\")"
   ]
  },
  {
   "cell_type": "markdown",
   "metadata": {
    "id": "wuOrquQIwjVs"
   },
   "source": [
    "Функция для приведения к начальной форме, нижнему регистру и фильтра стоп-слов"
   ]
  },
  {
   "cell_type": "code",
   "execution_count": 22,
   "metadata": {
    "id": "O3FGZ0IjCD2s"
   },
   "outputs": [],
   "source": [
    "def lemmetize(words):\n",
    "    lemmed_words = []\n",
    "    words = [w.lower() for w in word_tokenize(words) if w.isalpha()]\n",
    "    tokens = \" \".join([w for w in words if w not in sw])\n",
    "    doc = nlp(tokens)\n",
    "    for token in doc:\n",
    "        lemmed_words.append(token.lemma_)\n",
    "    lemmed_text = \" \".join(lemmed_words)\n",
    "    return(lemmed_text)"
   ]
  },
  {
   "cell_type": "markdown",
   "metadata": {
    "id": "pxXgAjlJwsPN"
   },
   "source": [
    "Проделываем это всё с обоими наборами отзывов"
   ]
  },
  {
   "cell_type": "code",
   "execution_count": 25,
   "metadata": {
    "id": "yCYT2xhFDHS1"
   },
   "outputs": [],
   "source": [
    "lemma_pos = []\n",
    "lemma_neg = []\n",
    "for p in pos:\n",
    "    lemma_pos.append(lemmetize(p))\n",
    "for n in neg:\n",
    "    lemma_neg.append(lemmetize(n))"
   ]
  },
  {
   "cell_type": "code",
   "execution_count": 26,
   "metadata": {
    "id": "9-Guv38gDhg_"
   },
   "outputs": [],
   "source": [
    "negj = \" \".join(lemma_neg).split()\n",
    "posj = \" \".join(lemma_pos).split()"
   ]
  },
  {
   "cell_type": "markdown",
   "metadata": {
    "id": "nx-FK9Vxw4K3"
   },
   "source": [
    "Подсчитываем слова в отзывах"
   ]
  },
  {
   "cell_type": "code",
   "execution_count": 27,
   "metadata": {
    "id": "29NExqBzD9b-"
   },
   "outputs": [],
   "source": [
    "posdict = {}\n",
    "negdict = {}\n",
    "for w in posj:\n",
    "    if w not in posdict:\n",
    "        posdict[w] = 1\n",
    "    else:\n",
    "        posdict[w] += 1\n",
    "for w in negj:\n",
    "    if w not in negdict:\n",
    "        negdict[w] = 1\n",
    "    else:\n",
    "        negdict[w] += 1"
   ]
  },
  {
   "cell_type": "markdown",
   "metadata": {
    "id": "_l5XxMYLw7eU"
   },
   "source": [
    "Выделяем ключевые слова, которые либо встречались только в отзывах одной тональности, либо встречались в отзывах одной тональности чаще, чем в отзывах другой тональности (это мой способ решения проблемы пустых множеств), и присваиваем им \"вес\" разницу квхождений в оложительные и в отрицательные отзывы (в зависимости от того, чего больше)."
   ]
  },
  {
   "cell_type": "code",
   "execution_count": 87,
   "metadata": {
    "id": "d8-i-oAPEC8w"
   },
   "outputs": [],
   "source": [
    "keyneg = {}\n",
    "keypos = {}\n",
    "for p in posdict:\n",
    "    if p in negdict:\n",
    "        if posdict[p] > negdict[p]:\n",
    "            score = posdict[p] - negdict[p]\n",
    "    else:\n",
    "        score = posdict[p]\n",
    "    keypos[p] = score\n",
    "for n in negdict:\n",
    "    if n in posdict:\n",
    "        if negdict[n] > posdict[n]:\n",
    "            score = negdict[n] - posdict[n]\n",
    "    else:\n",
    "        score = negdict[n]\n",
    "    keyneg[n] = score"
   ]
  },
  {
   "cell_type": "markdown",
   "metadata": {
    "id": "v-LGrnsRxLAm"
   },
   "source": [
    "Набираем отзывы для проверки"
   ]
  },
  {
   "cell_type": "code",
   "execution_count": 29,
   "metadata": {
    "id": "2ZWsrz_GYS_l"
   },
   "outputs": [],
   "source": [
    "url = \"https://www.tripadvisor.com/Restaurant_Review-g60763-d3491934-Reviews-The_Halal_Guys-New_York_City_New_York.html\"\n",
    "test = []\n",
    "for page in range(90):\n",
    "    page_url = f'{url.split(\"-Reviews-\")[0]}-or{page*10}-{url.split(\"-Reviews-\")[1]}'\n",
    "    page_reviews = get_reviews(page_url)\n",
    "    test.extend(page_reviews)"
   ]
  },
  {
   "cell_type": "code",
   "execution_count": 30,
   "metadata": {
    "colab": {
     "base_uri": "https://localhost:8080/"
    },
    "id": "4HeZXw7Raas-",
    "outputId": "cd876f23-c696-4115-bc17-6f9b6e156294"
   },
   "outputs": [
    {
     "data": {
      "text/plain": [
       "30"
      ]
     },
     "execution_count": 30,
     "metadata": {},
     "output_type": "execute_result"
    }
   ],
   "source": [
    "testneg = []\n",
    "for review in test:\n",
    "    if review[\"rating\"] == \"10\" and review[\"content\"] not in testneg:\n",
    "        testneg.append(review[\"content\"])\n",
    "len(testneg)"
   ]
  },
  {
   "cell_type": "code",
   "execution_count": 31,
   "metadata": {
    "id": "BsYX-splahm0"
   },
   "outputs": [],
   "source": [
    "testpos = []\n",
    "for review in test:\n",
    "    if review[\"rating\"] == \"50\" and review[\"content\"] not in testpos:\n",
    "        testpos.append(review[\"content\"])\n",
    "    if len(testpos) == 30:\n",
    "        break"
   ]
  },
  {
   "cell_type": "code",
   "execution_count": 32,
   "metadata": {
    "id": "4W52hnVMh5-c"
   },
   "outputs": [],
   "source": [
    "ans = {}\n",
    "for i in testneg:\n",
    "    ans[i] = 0\n",
    "for i in testpos:\n",
    "    ans[i] = 1"
   ]
  },
  {
   "cell_type": "markdown",
   "metadata": {
    "id": "3cqHsnVAxN7h"
   },
   "source": [
    "Функция для определения тональности: каждое слово в отзыве приводим к нормальному виду, далее смотрим, является ли оно ключевым для положительной и отрицательной тональности. Прибавляем к его \"счету\" то число, которое соответствует ключевому слову."
   ]
  },
  {
   "cell_type": "code",
   "execution_count": 105,
   "metadata": {
    "id": "Ula_BPOcWxAV"
   },
   "outputs": [],
   "source": [
    "def sentiment(keypos, keyneg, review):\n",
    "    pos_score = 0\n",
    "    neg_score = 0\n",
    "    lem_review = lemmetize(review)\n",
    "    for word in lem_review:\n",
    "        if word in keypos:\n",
    "            pos_score += keypos[word]\n",
    "        if word in keyneg:\n",
    "            neg_score += keyneg[word]\n",
    "    if pos_score > neg_score:\n",
    "        return 1\n",
    "    else:\n",
    "        return 0"
   ]
  },
  {
   "cell_type": "markdown",
   "metadata": {
    "id": "0JRLxRyIxpuK"
   },
   "source": [
    "Проверяем аккураси: если правильно определена тональность, добавляем балл. Потом делим сумму баллов на длину тестовой выборки"
   ]
  },
  {
   "cell_type": "code",
   "execution_count": 42,
   "metadata": {
    "id": "hEY8FMdJgf1K"
   },
   "outputs": [],
   "source": [
    "def accuracy(ans, pred):\n",
    "    sum = 0\n",
    "    for i in pred:\n",
    "        if pred[i] == ans[i]:\n",
    "            sum += 1\n",
    "    return sum/len(ans)"
   ]
  },
  {
   "cell_type": "code",
   "execution_count": 109,
   "metadata": {
    "id": "oIy0GtteiahO"
   },
   "outputs": [],
   "source": [
    "pred = {}\n",
    "for i in ans:\n",
    "    pred[i] = sentiment(keypos, keyneg, i)"
   ]
  },
  {
   "cell_type": "code",
   "execution_count": 112,
   "metadata": {
    "colab": {
     "base_uri": "https://localhost:8080/"
    },
    "id": "8D2YQAUcnmbB",
    "outputId": "326efc07-491c-4bae-da84-8c9c75039d48"
   },
   "outputs": [
    {
     "data": {
      "text/plain": [
       "0.4666666666666667"
      ]
     },
     "execution_count": 112,
     "metadata": {},
     "output_type": "execute_result"
    }
   ],
   "source": [
    "accuracy(ans, pred)"
   ]
  },
  {
   "cell_type": "markdown",
   "metadata": {
    "id": "ovB2lrG8r3eS"
   },
   "source": [
    "Получилось, конечно, так себе. Отсюда переходим к возможным улучшениям этой убогой штуки:\n",
    "\n",
    "1. создать и применить топико-специфичный список стоп-слов. Для отзывов на рестораны, например, там будут слова типа \"кафе, еда, персонал\" и т.д. Создать такой список можно на основе большой выборки отзывов, выделив те слова, которые встречаются в большинстве из них. Однозначно тогда будет меньше негативных и позитивных маркеров, не имеющих в своей сути ничего негативного или позитивного\n",
    "\n",
    "2. отзывы бывают длинные и короткие. Можно попробовать давать больший вес словам в маленьких отзывах и меньший в больших. Логика за этим такая: в маленьком отзыве скорее всё лаконичнее и слова напрямую описывают эмоциональную реакцию рецензента, в большом же может быть много воды и каких-то витиеватых, детальных сравнений/описаний/рассуждений (а соответственно и лишних слов, которые автор написал просто от балды). это не точно, но можно попробовать\n",
    "\n",
    "3. можно попробовать учитывать отрицания перед словами и при наличии такового трактовать слово противоположно либо рассматривать его с отрицанием как одно целое, например, если встретили not good в отрицательном отзыве, то не бежим записывать good в отрицательный список, а либо наоборот тащим его в отрицательный (not меняет значение на противоположное => слово на самом деле имеет положительную коннотацию), либо тащим в отрицательный список словосочетание not good\n",
    "\n",
    "надеюсь, что-то из этого засчитается, как улучшение.... thanks for coming to my ted talk"
   ]
  },
  {
   "cell_type": "markdown",
   "metadata": {
    "id": "q0xc7sZEEMtx"
   },
   "source": [
    "<img src=\"https://i.pinimg.com/originals/1c/b6/04/1cb604515b145c012a82f7ce6ed75e0f.jpg\">\n"
   ]
  }
 ],
 "metadata": {
  "colab": {
   "provenance": [],
   "toc_visible": true
  },
  "kernelspec": {
   "display_name": "Python 3 (ipykernel)",
   "language": "python",
   "name": "python3"
  },
  "language_info": {
   "codemirror_mode": {
    "name": "ipython",
    "version": 3
   },
   "file_extension": ".py",
   "mimetype": "text/x-python",
   "name": "python",
   "nbconvert_exporter": "python",
   "pygments_lexer": "ipython3",
   "version": "3.9.12"
  }
 },
 "nbformat": 4,
 "nbformat_minor": 1
}
